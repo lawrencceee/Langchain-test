{
 "cells": [
  {
   "cell_type": "code",
   "execution_count": 1,
   "metadata": {},
   "outputs": [],
   "source": [
    "import os\n",
    "from dotenv import load_dotenv\n",
    "load_dotenv()\n",
    "\n",
    "os.environ['OPEN_AI']=os.getenv(\"OPENAI_API_KEY\")\n",
    "os.environ[\"LANGCHAIN_API_EY\"]=os.getenv(\"LANGCHAIN_API_KEY\")\n",
    "os.environ[\"LANGCHAIN_TRACING_V2\"]=\"true\"\n",
    "os.environ[\"LANGCHAIN_PROJECT\"]=os.getenv(\"LANGCHAIN_PROJECT\")"
   ]
  },
  {
   "cell_type": "code",
   "execution_count": 2,
   "metadata": {},
   "outputs": [
    {
     "name": "stdout",
     "output_type": "stream",
     "text": [
      "client=<openai.resources.chat.completions.completions.Completions object at 0x000002B3781995D0> async_client=<openai.resources.chat.completions.completions.AsyncCompletions object at 0x000002B37819BEE0> root_client=<openai.OpenAI object at 0x000002B374724CD0> root_async_client=<openai.AsyncOpenAI object at 0x000002B378199660> model_name='gpt-4o' model_kwargs={} openai_api_key=SecretStr('**********')\n"
     ]
    }
   ],
   "source": [
    "from langchain_openai import ChatOpenAI\n",
    "llm=ChatOpenAI(model=\"gpt-4o\")\n",
    "print(llm)"
   ]
  },
  {
   "cell_type": "code",
   "execution_count": 3,
   "metadata": {},
   "outputs": [
    {
     "data": {
      "text/plain": [
       "AIMessage(content='Artificial Intelligence (AI) refers to the development of computer systems that can perform tasks typically requiring human intelligence. These tasks include problem-solving, learning, understanding natural language, recognizing patterns, and making decisions. AI can be divided into two main categories:\\n\\n1. **Narrow AI (Weak AI):** This type of AI is designed to perform a specific task or a group of related tasks. Examples include virtual assistants like Siri or Alexa, recommendation systems on platforms like Netflix and Amazon, and self-driving cars.\\n\\n2. **General AI (Strong AI):** This is a theoretical concept where an AI system possesses the ability to understand, learn, and apply knowledge across a wide range of tasks, matching or surpassing human intelligence. As of now, General AI does not exist, and it remains a goal for future AI research and development.\\n\\nAI technologies commonly utilized today include machine learning, where systems learn and improve from data without being explicitly programmed, and deep learning, which uses neural networks with many layers to analyze various factors of data.\\n\\nAI has applications across many sectors such as healthcare, finance, entertainment, transportation, and more, offering potential for significant advancements and efficiencies. However, it also raises ethical and societal considerations, such as privacy, bias, and the future of work.', additional_kwargs={'refusal': None}, response_metadata={'token_usage': {'completion_tokens': 256, 'prompt_tokens': 11, 'total_tokens': 267, 'completion_tokens_details': {'accepted_prediction_tokens': 0, 'audio_tokens': 0, 'reasoning_tokens': 0, 'rejected_prediction_tokens': 0}, 'prompt_tokens_details': {'audio_tokens': 0, 'cached_tokens': 0}}, 'model_name': 'gpt-4o-2024-08-06', 'system_fingerprint': 'fp_898ac29719', 'id': 'chatcmpl-BIy3Vyjn00fBppxBkcA7ITq1O8hqK', 'finish_reason': 'stop', 'logprobs': None}, id='run-0f8e5cce-48fa-42d2-9c1e-97182fb8c13c-0', usage_metadata={'input_tokens': 11, 'output_tokens': 256, 'total_tokens': 267, 'input_token_details': {'audio': 0, 'cache_read': 0}, 'output_token_details': {'audio': 0, 'reasoning': 0}})"
      ]
     },
     "execution_count": 3,
     "metadata": {},
     "output_type": "execute_result"
    }
   ],
   "source": [
    "llm.invoke(\"What is AI?\")"
   ]
  },
  {
   "cell_type": "code",
   "execution_count": 4,
   "metadata": {},
   "outputs": [
    {
     "data": {
      "text/plain": [
       "ChatPromptTemplate(input_variables=['input'], input_types={}, partial_variables={}, messages=[SystemMessagePromptTemplate(prompt=PromptTemplate(input_variables=[], input_types={}, partial_variables={}, template='You are an expert AI Engineer.  Provide me answers based on the question'), additional_kwargs={}), HumanMessagePromptTemplate(prompt=PromptTemplate(input_variables=['input'], input_types={}, partial_variables={}, template='{input}'), additional_kwargs={})])"
      ]
     },
     "execution_count": 4,
     "metadata": {},
     "output_type": "execute_result"
    }
   ],
   "source": [
    "from langchain_core.prompts import ChatPromptTemplate\n",
    "\n",
    "prompt=ChatPromptTemplate.from_messages(\n",
    "    [\n",
    "        (\"system\",\"You are an expert AI Engineer.  Provide me answers based on the question\"),\n",
    "        (\"user\",\"{input}\")\n",
    "     ]\n",
    "    )\n",
    "prompt"
   ]
  },
  {
   "cell_type": "code",
   "execution_count": 5,
   "metadata": {},
   "outputs": [
    {
     "name": "stdout",
     "output_type": "stream",
     "text": [
      "content='Langsmith is a tool developed by Langchain that is designed to enhance the development, testing, and monitoring of applications powered by large language models (LLMs). It simplifies the process for developers by providing a streamlined set of tools to build with LLMs more easily and effectively.\\n\\nKey aspects of Langsmith include:\\n\\n1. **Testing and Evaluation**: Langsmith offers robust tools for assessing the performance and reliability of applications using LLMs. It enables developers to conduct various tests, analyze outputs, and ensure that models perform as expected in different scenarios.\\n\\n2. **Monitoring and Analytics**: With Langsmith, users can monitor the real-time performance of their language model-driven applications. This functionality allows developers to track important metrics, spot potential issues quickly, and optimize performance based on data-driven insights.\\n\\n3. **Integration and Development Tools**: Langsmith provides features to help developers seamlessly integrate LLMs into their products, facilitating smoother workflows and reducing the complexity often involved in working with these advanced technologies.\\n\\nOverall, Langsmith represents a significant step forward in making the sophisticated capabilities of large language models more accessible and manageable for developers across various industries.' additional_kwargs={'refusal': None} response_metadata={'token_usage': {'completion_tokens': 230, 'prompt_tokens': 34, 'total_tokens': 264, 'completion_tokens_details': {'accepted_prediction_tokens': 0, 'audio_tokens': 0, 'reasoning_tokens': 0, 'rejected_prediction_tokens': 0}, 'prompt_tokens_details': {'audio_tokens': 0, 'cached_tokens': 0}}, 'model_name': 'gpt-4o-2024-08-06', 'system_fingerprint': 'fp_6dd05565ef', 'id': 'chatcmpl-BIy3Z3FeiaRTsBmKWhK7TmauLufZm', 'finish_reason': 'stop', 'logprobs': None} id='run-69adc62a-d752-4933-9af7-6a74f4b906e4-0' usage_metadata={'input_tokens': 34, 'output_tokens': 230, 'total_tokens': 264, 'input_token_details': {'audio': 0, 'cache_read': 0}, 'output_token_details': {'audio': 0, 'reasoning': 0}}\n"
     ]
    }
   ],
   "source": [
    "chain=prompt|llm\n",
    "\n",
    "response=chain.invoke({\"input\":\"Can you tell me about Langsmith?\"})\n",
    "print(response)"
   ]
  },
  {
   "cell_type": "code",
   "execution_count": 6,
   "metadata": {},
   "outputs": [
    {
     "name": "stdout",
     "output_type": "stream",
     "text": [
      "Langchain is a framework designed to aid in the development of applications using large language models (LLMs). It supports the integration of LLMs into various workflows, enabling developers to build complex applications that leverage the power of language models. Key features of Langchain include:\n",
      "\n",
      "1. **Modularity**: Langchain provides modular components that developers can mix and match to create custom applications. This modular approach allows for easy integration of LLMs with other technologies and systems.\n",
      "\n",
      "2. **Chain of Operations**: The framework allows developers to create chains of operations, where outputs from one process can be fed into another. This chaining capability is particularly useful for building complex workflows that require multiple transformations or analyses of textual data.\n",
      "\n",
      "3. **Connectors**: Langchain offers connectors and APIs to integrate with various language models and data sources, enhancing the flexibility and scalability of applications.\n",
      "\n",
      "4. **Data Transformation**: It provides tools for pre-processing and post-processing data to ensure that the inputs and outputs of language models are in the desired format, improving the accuracy and relevance of the results.\n",
      "\n",
      "5. **Application Domains**: Langchain is applicable across a diverse set of domains, including chatbots, content generation, summarization, translation, sentiment analysis, and more.\n",
      "\n",
      "By facilitating streamlined development processes and offering robust tools, Langchain helps developers harness the capabilities of language models to build innovative language-based applications.\n"
     ]
    }
   ],
   "source": [
    "from langchain_core.output_parsers import StrOutputParser\n",
    "output_parser=StrOutputParser()\n",
    "chain=prompt|llm|output_parser\n",
    "\n",
    "response=chain.invoke({\"input\":\"Can you tell me about Langchain?\"})\n",
    "print(response)"
   ]
  }
 ],
 "metadata": {
  "kernelspec": {
   "display_name": "Python 3",
   "language": "python",
   "name": "python3"
  },
  "language_info": {
   "codemirror_mode": {
    "name": "ipython",
    "version": 3
   },
   "file_extension": ".py",
   "mimetype": "text/x-python",
   "name": "python",
   "nbconvert_exporter": "python",
   "pygments_lexer": "ipython3",
   "version": "3.10.0"
  }
 },
 "nbformat": 4,
 "nbformat_minor": 2
}
